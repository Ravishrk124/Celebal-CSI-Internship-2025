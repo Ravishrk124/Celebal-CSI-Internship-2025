{
  "nbformat": 4,
  "nbformat_minor": 0,
  "metadata": {
    "colab": {
      "provenance": []
    },
    "kernelspec": {
      "name": "python3",
      "display_name": "Python 3"
    },
    "language_info": {
      "name": "python"
    }
  },
  "cells": [
    {
      "cell_type": "code",
      "execution_count": 2,
      "metadata": {
        "colab": {
          "base_uri": "https://localhost:8080/"
        },
        "id": "vhuHOeLPKBd_",
        "outputId": "e78f915e-11d5-41a5-975b-d2f4bde1d8c8"
      },
      "outputs": [
        {
          "output_type": "stream",
          "name": "stdout",
          "text": [
            "RMSE: 32445.304256457628\n"
          ]
        },
        {
          "output_type": "execute_result",
          "data": {
            "text/plain": [
              "['features.pkl']"
            ]
          },
          "metadata": {},
          "execution_count": 2
        }
      ],
      "source": [
        "# train_model.ipynb\n",
        "\n",
        "import pandas as pd\n",
        "from sklearn.model_selection import train_test_split\n",
        "from sklearn.ensemble import RandomForestRegressor\n",
        "from sklearn.preprocessing import LabelEncoder\n",
        "from sklearn.metrics import mean_squared_error\n",
        "import joblib\n",
        "\n",
        "# Load dataset\n",
        "df = pd.read_csv('/content/train.csv')\n",
        "\n",
        "# Preprocess\n",
        "df = df.select_dtypes(include=[float, int])  # drop object columns for simplicity\n",
        "df = df.dropna()  # drop missing values\n",
        "X = df.drop('SalePrice', axis=1)\n",
        "y = df['SalePrice']\n",
        "\n",
        "# Split\n",
        "X_train, X_test, y_train, y_test = train_test_split(X, y, test_size=0.2, random_state=42)\n",
        "\n",
        "# Train model\n",
        "model = RandomForestRegressor()\n",
        "model.fit(X_train, y_train)\n",
        "\n",
        "# Evaluate\n",
        "y_pred = model.predict(X_test)\n",
        "from math import sqrt\n",
        "print(\"RMSE:\", sqrt(mean_squared_error(y_test, y_pred)))\n",
        "\n",
        "\n",
        "# Save model\n",
        "joblib.dump(model, 'house_model.pkl')\n",
        "joblib.dump(X.columns.tolist(), 'features.pkl')  # save feature list\n"
      ]
    }
  ]
}